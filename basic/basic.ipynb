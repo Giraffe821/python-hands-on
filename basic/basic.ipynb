{
 "cells": [
  {
   "cell_type": "markdown",
   "metadata": {},
   "source": [
    "# 基本課題"
   ]
  },
  {
   "cell_type": "markdown",
   "metadata": {},
   "source": [
    "#### 1. 任意の文字列 (xxx) を標準入力で受け取り，\"Hello, xxx!\" と出力せよ。"
   ]
  },
  {
   "cell_type": "code",
   "execution_count": 13,
   "metadata": {},
   "outputs": [
    {
     "name": "stdin",
     "output_type": "stream",
     "text": [
      "Pleaxse input word: ken\n"
     ]
    },
    {
     "name": "stdout",
     "output_type": "stream",
     "text": [
      "Hello,ken!\n"
     ]
    }
   ],
   "source": [
    "#任意の文字列を標準入力で受け取る\n",
    "x = input(\"Pleaxse input word:\")\n",
    "#受け取った文字を出力する。\n",
    "print(f\"Hello,{x}!\")"
   ]
  },
  {
   "cell_type": "markdown",
   "metadata": {},
   "source": [
    "#### 2. 任意の整数を標準入力で受け取り，\"100\" との和差積商を出力せよ。"
   ]
  },
  {
   "cell_type": "code",
   "execution_count": 14,
   "metadata": {},
   "outputs": [
    {
     "name": "stdin",
     "output_type": "stream",
     "text": [
      "Please input number: ８９\n"
     ]
    },
    {
     "name": "stdout",
     "output_type": "stream",
     "text": [
      "SUM= 189\n",
      "PRO= 8900\n",
      "DIF= -11\n",
      "QUO= 0.89\n",
      "REM= 89\n"
     ]
    }
   ],
   "source": [
    "#任意の整数を標準入力で受け取る\n",
    "try:\n",
    "    n = int(input(\"Please input number:\"))\n",
    "#整数以外が入力されるとエラーを返す\n",
    "except:\n",
    "    print(\"Input Error\")\n",
    "#入力された整数と100との演算結果を返す\n",
    "else:\n",
    "    print(\"SUM=\",n+100)\n",
    "    print(\"PRO=\",n*100)\n",
    "    print(\"DIF=\",n-100)\n",
    "    print(\"QUO=\",n/100)\n",
    "    print(\"REM=\",n%100)"
   ]
  },
  {
   "cell_type": "markdown",
   "metadata": {},
   "source": [
    "#### 3. 1から50のリストを作って，その最大値，最小値，合計値，平均値を出力せよ。"
   ]
  },
  {
   "cell_type": "code",
   "execution_count": 5,
   "metadata": {},
   "outputs": [
    {
     "name": "stdout",
     "output_type": "stream",
     "text": [
      "[1, 2, 3, 4, 5, 6, 7, 8, 9, 10, 11, 12, 13, 14, 15, 16, 17, 18, 19, 20, 21, 22, 23, 24, 25, 26, 27, 28, 29, 30, 31, 32, 33, 34, 35, 36, 37, 38, 39, 40, 41, 42, 43, 44, 45, 46, 47, 48, 49, 50]\n",
      "合計値は 1275\n",
      "最大値は 50\n",
      "最小値は 1\n",
      "平均値は 25.5\n"
     ]
    }
   ],
   "source": [
    "#空のリストを作る\n",
    "b=[]\n",
    "#1~51までの要素を空のリストに入れる\n",
    "for i in range(1,51):\n",
    "    b.append(i)\n",
    "#作ったリストを出力する\n",
    "print(b) \n",
    "#合計値と平均値を出す\n",
    "\n",
    "S=0\n",
    "for i in (b):\n",
    "    S += i\n",
    "    avg = S / len(b) \n",
    "print(\"合計値は\",S)\n",
    "print(\"最大値は\",max(b))\n",
    "print(\"最小値は\",min(b))\n",
    "print(\"平均値は\",avg)"
   ]
  },
  {
   "cell_type": "markdown",
   "metadata": {},
   "source": [
    "#### 4. 3. で作ったリストに 51から100のリストを追加せよ。また，そのリストから30から70までの偶数要素のみを出力せよ。"
   ]
  },
  {
   "cell_type": "code",
   "execution_count": 6,
   "metadata": {},
   "outputs": [
    {
     "name": "stdout",
     "output_type": "stream",
     "text": [
      "[1, 2, 3, 4, 5, 6, 7, 8, 9, 10, 11, 12, 13, 14, 15, 16, 17, 18, 19, 20, 21, 22, 23, 24, 25, 26, 27, 28, 29, 30, 31, 32, 33, 34, 35, 36, 37, 38, 39, 40, 41, 42, 43, 44, 45, 46, 47, 48, 49, 50, 51, 52, 53, 54, 55, 56, 57, 58, 59, 60, 61, 62, 63, 64, 65, 66, 67, 68, 69, 70, 71, 72, 73, 74, 75, 76, 77, 78, 79, 80, 81, 82, 83, 84, 85, 86, 87, 88, 89, 90, 91, 92, 93, 94, 95, 96, 97, 98, 99, 100]\n",
      "[30, 32, 34, 36, 38, 40, 42, 44, 46, 48, 50, 52, 54, 56, 58, 60, 62, 64, 66, 68, 70]\n"
     ]
    }
   ],
   "source": [
    "#上で作ったリストに追加する\n",
    "for j in range(51, 101):\n",
    "    b.append (j)\n",
    "#30から70までの偶数要素を取り出す\n",
    "c=[l for l in b if l % 2 == 0 and (30 <= l <= 70)]\n",
    "print(b)\n",
    "print(c)"
   ]
  },
  {
   "cell_type": "markdown",
   "metadata": {},
   "source": [
    "#### 5. 講習参加者の姓を key, 学年を value とする辞書を作り，全要素を for 文を用いて出力せよ。"
   ]
  },
  {
   "cell_type": "code",
   "execution_count": 15,
   "metadata": {},
   "outputs": [
    {
     "name": "stdout",
     "output_type": "stream",
     "text": [
      "enokiya-san PD\n",
      "okubo B4\n",
      "sato-san M2\n",
      "seki B4\n",
      "hagimoto B4\n",
      "matsue B4\n",
      "matsuda B4\n",
      "yamada B4\n"
     ]
    }
   ],
   "source": [
    "#空の入れ物を用意する\n",
    "member = {}\n",
    "#入れ物の中に辞書を作る\n",
    "member[\"enokiya-san\"] = \"PD\"\n",
    "member[\"okubo\"] = \"B4\"\n",
    "member[\"sato-san\"] = \"M2\"\n",
    "member[\"seki\"] = \"B4\"\n",
    "member[\"hagimoto\"] = \"B4\"\n",
    "member[\"matsue\"] = \"B4\"\n",
    "member[\"matsuda\"] = \"B4\"\n",
    "member[\"yamada\"] = \"B4\"\n",
    "#辞書の中身を出力する\n",
    "for k in member:\n",
    "    print(k,member[k])"
   ]
  },
  {
   "cell_type": "markdown",
   "metadata": {},
   "source": [
    "#### 6. 1から100の範囲で，3で割り切れる場合は\"Fizz\"，5で割り切れる場合は\"Buzz\"，そのどちらでも割り切れる場合は\"FizzBuzz\"，いずれでもない場合はそのまま数字を出力せよ。\n",
    "##### 出力例\n",
    "```bash\n",
    "1, 2, \"Fizz\", 4, \"Buzz\", \"Fizz\", ..., 14, \"FizzBuzz\", 16, ...\n",
    "```"
   ]
  },
  {
   "cell_type": "code",
   "execution_count": 16,
   "metadata": {},
   "outputs": [
    {
     "name": "stdout",
     "output_type": "stream",
     "text": [
      "1,2,\"Fizz\",4,\"Buzz\",\"Fizz\",7,8,\"Fizz\",\"Buzz\",11,\"Fizz\",13,14,\"FizzBuzz\",16,17,\"Fizz\",19,\"Buzz\",\"Fizz\",22,23,\"Fizz\",\"Buzz\",26,\"Fizz\",28,29,\"FizzBuzz\",31,32,\"Fizz\",34,\"Buzz\",\"Fizz\",37,38,\"Fizz\",\"Buzz\",41,\"Fizz\",43,44,\"FizzBuzz\",46,47,\"Fizz\",49,\"Buzz\",\"Fizz\",52,53,\"Fizz\",\"Buzz\",56,\"Fizz\",58,59,\"FizzBuzz\",61,62,\"Fizz\",64,\"Buzz\",\"Fizz\",67,68,\"Fizz\",\"Buzz\",71,\"Fizz\",73,74,\"FizzBuzz\",76,77,\"Fizz\",79,\"Buzz\",\"Fizz\",82,83,\"Fizz\",\"Buzz\",86,\"Fizz\",88,89,\"FizzBuzz\",91,92,\"Fizz\",94,\"Buzz\",\"Fizz\",97,98,\"Fizz\",\"Buzz\","
     ]
    }
   ],
   "source": [
    "#1から100までのリストの要素の中で\n",
    "for z in range(1,101):\n",
    "#3かつ5で割り切れる要素はFizzbuzzと出力する\n",
    "    if z % 3==0 and z % 5==0:\n",
    "        z=print('\"FizzBuzz\"',end=\",\")\n",
    "#3で割り切れる要素についてはFizzと出力する\n",
    "    elif z % 3==0:\n",
    "        z=print('\"Fizz\"',end=\",\")\n",
    "#5で割り切れる要素についてはBuzzと出力する\n",
    "    elif z % 5==0:\n",
    "        z=print('\"Buzz\"',end=\",\")\n",
    "#3でも5でも割り切れない場合はそのまま数字を出力する\n",
    "    else:\n",
    "        z=print(z,end=\",\")"
   ]
  },
  {
   "cell_type": "markdown",
   "metadata": {},
   "source": [
    "#### 7.　2つの自然数の最大公約数を求める関数を実装せよ。"
   ]
  },
  {
   "cell_type": "code",
   "execution_count": 29,
   "metadata": {},
   "outputs": [
    {
     "name": "stdout",
     "output_type": "stream",
     "text": [
      "最大公約数は 2\n"
     ]
    }
   ],
   "source": [
    "#関数GCD(m,n)を定義する\n",
    "def GCD(m,n):\n",
    "#mかnのどちらかが0以下の場合はエラーを返す\n",
    "    if m <= 0 or n <= 0:\n",
    "        print(\"Input Error\")\n",
    "#mがn以上であれば、そのままにする\n",
    "    else:\n",
    "        if m >= n:\n",
    "            m,n = m,n\n",
    "#mがn未満であれば、mとnを入れ替える\n",
    "        else:\n",
    "            m,n = n,m\n",
    "#mがnで割り切れれば最大公約数はnと表示\n",
    "        if m%n == 0:\n",
    "            print(\"最大公約数は\",n)\n",
    "            return n\n",
    "#mでnで割り切れなければユークリッドの互除法を用いて最大公約数を求める\n",
    "        else:\n",
    "            while m%n!=0:\n",
    "                    a = m%n\n",
    "                    m = n\n",
    "                    n = a\n",
    "            else:\n",
    "                print(\"最大公約数は\",a)\n",
    "                return a\n",
    "            \n",
    "g = GCD(34,56)"
   ]
  },
  {
   "cell_type": "markdown",
   "metadata": {},
   "source": [
    "#### 8. `address-tab.txt`を読み込み，先頭から５行のみを出力せよ。また，タブをスペースに変換した結果を `address-space.txt` に書き込め。"
   ]
  },
  {
   "cell_type": "code",
   "execution_count": 19,
   "metadata": {},
   "outputs": [
    {
     "name": "stdout",
     "output_type": "stream",
     "text": [
      "愛知県名古屋市守山区 桔梗平\n",
      "富山県砺波市 大窪\n",
      "島根県邑智郡美郷町 久保\n",
      "愛知県稲沢市 横地\n",
      "宮城県栗原市 高清水下折木\n"
     ]
    }
   ],
   "source": [
    "#ファイルを読み込んでtestに入れる\n",
    "test = open(\"address-tab.txt\",\"r\")\n",
    "#testに入っているものを1行ずつ読んでread_strに入れる\n",
    "read_str = test.readlines()\n",
    "#読み込んだファイルを閉じる\n",
    "test.close()\n",
    "#書き込むファイルを開く\n",
    "test = open(\"address-space.txt\",\"w\")\n",
    "#先頭から5行目までをタブをコンマに書き換えて、\\nを除いたものをtempに入れる\n",
    "for i in range(0,5):\n",
    "    temp = (read_str[i].replace(\"\\t\",\" \").strip(\"\\n\"))\n",
    "    print(temp)\n",
    "#tempに改行を加えてtestに書き込む\n",
    "    test.write(temp+\"\\n\")\n",
    "test.close()"
   ]
  },
  {
   "cell_type": "markdown",
   "metadata": {},
   "source": [
    "#### 9. モンテカルロ法 (10,000点) を用いて円周率の近似値を求めよ。なお `NumPy` を用いること。\n",
    "\n",
    "> 参考：[NumPy 公式サイト](https://docs.scipy.org/doc/numpy/)"
   ]
  },
  {
   "cell_type": "code",
   "execution_count": 22,
   "metadata": {},
   "outputs": [
    {
     "name": "stdout",
     "output_type": "stream",
     "text": [
      "円周率は 3.16\n"
     ]
    }
   ],
   "source": [
    "#numpyを読み込む\n",
    "import numpy as np\n",
    "#10000点を指定\n",
    "NUM = 10000\n",
    "#xyの座標情報を持ったランダムな点を作る\n",
    "x = np.random.rand(NUM)\n",
    "y = np.random.rand(NUM)\n",
    "s = x**2 + y**2\n",
    "#上で定義したsが1以下になる点の数を数える\n",
    "n = np.sum(s <= 1.0)\n",
    "#上で得られた値を4倍して全ての点で割る\n",
    "pi = 4.0*n/NUM\n",
    "print(\"円周率は\",pi)"
   ]
  },
  {
   "cell_type": "markdown",
   "metadata": {},
   "source": [
    "#### 10. 以下のセルを実行して得られるデータ **(freq, spec)** を `Matplotlib` を用いて描画せよ。なお，タイトル，ラベル，凡例もつけること。\n",
    "\n",
    "> 参考：[Matplotlib 公式サイト](https://matplotlib.org/)"
   ]
  },
  {
   "cell_type": "code",
   "execution_count": 9,
   "metadata": {},
   "outputs": [],
   "source": [
    "import numpy as np\n",
    "\n",
    "SAMP_NUM = 256\n",
    "SAMP_INT = 0.01\n",
    "\n",
    "f1, f2 = 10, 20\n",
    "t = np.arange(0, SAMP_NUM * SAMP_INT, SAMP_INT)\n",
    "signal = np.sin(2*np.pi*f1*t) + np.sin(2*np.pi*f2*t) + np.random.randn(SAMP_NUM)\n",
    "\n",
    "freq = np.linspace(0, 1.0/SAMP_INT, SAMP_NUM)\n",
    "spec = np.abs(np.fft.fft(signal))"
   ]
  },
  {
   "cell_type": "code",
   "execution_count": 40,
   "metadata": {},
   "outputs": [
    {
     "data": {
      "image/png": "[encoded data removed]",
      "text/plain": [
       "<Figure size 432x288 with 1 Axes>"
      ]
     },
     "metadata": {
      "needs_background": "light"
     },
     "output_type": "display_data"
    }
   ],
   "source": [
    "#numpyを読み込む\n",
    "import numpy as np\n",
    "#matplotlibを読み込んでグラフを出力する準備をする\n",
    "from matplotlib import pyplot as plt\n",
    "%matplotlib inline\n",
    "#横軸にfreq、縦軸にspec,凡例をspectalとする\n",
    "plt.plot(freq,spec,label = \"spectral\")\n",
    "#グラフタイトルをtitle,横軸をfrequency,縦軸をintensityとする\n",
    "plt.legend()\n",
    "plt.title(\"title\")\n",
    "plt.xlabel(\"frequency\")\n",
    "plt.ylabel(\"intensity\")\n",
    "plt.show()"
   ]
  },
  {
   "cell_type": "markdown",
   "metadata": {},
   "source": [
    "#### Bonus : 10. と同様のグラフを `Bokeh` を用いて描画せよ。（Note: `Bokeh` はインストールされてない。）\n",
    "> 参考：[Bokeh 公式サイト](https://bokeh.pydata.org/en/latest/)"
   ]
  },
  {
   "cell_type": "code",
   "execution_count": 10,
   "metadata": {},
   "outputs": [
    {
     "data": {
      "text/html": [
       "\n",
       "    <div class=\"bk-root\">\n",
       "        <a href=\"https://bokeh.pydata.org\" target=\"_blank\" class=\"bk-logo bk-logo-small bk-logo-notebook\"></a>\n",
       "        <span id=\"1001\">Loading BokehJS ...</span>\n",
       "    </div>"
      ]
     },
     "metadata": {},
     "output_type": "display_data"
    },
    {
     "data": {
      "application/javascript": [
       "\n",
       "(function(root) {\n",
       "  function now() {\n",
       "    return new Date();\n",
       "  }\n",
       "\n",
       "  var force = true;\n",
       "\n",
       "  if (typeof root._bokeh_onload_callbacks === \"undefined\" || force === true) {\n",
       "    root._bokeh_onload_callbacks = [];\n",
       "    root._bokeh_is_loading = undefined;\n",
       "  }\n",
       "\n",
       "  var JS_MIME_TYPE = 'application/javascript';\n",
       "  var HTML_MIME_TYPE = 'text/html';\n",
       "  var EXEC_MIME_TYPE = 'application/vnd.bokehjs_exec.v0+json';\n",
       "  var CLASS_NAME = 'output_bokeh rendered_html';\n",
       "\n",
       "  /**\n",
       "   * Render data to the DOM node\n",
       "   */\n",
       "  function render(props, node) {\n",
       "    var script = document.createElement(\"script\");\n",
       "    node.appendChild(script);\n",
       "  }\n",
       "\n",
       "  /**\n",
       "   * Handle when an output is cleared or removed\n",
       "   */\n",
       "  function handleClearOutput(event, handle) {\n",
       "    var cell = handle.cell;\n",
       "\n",
       "    var id = cell.output_area._bokeh_element_id;\n",
       "    var server_id = cell.output_area._bokeh_server_id;\n",
       "    // Clean up Bokeh references\n",
       "    if (id != null && id in Bokeh.index) {\n",
       "      Bokeh.index[id].model.document.clear();\n",
       "      delete Bokeh.index[id];\n",
       "    }\n",
       "\n",
       "    if (server_id !== undefined) {\n",
       "      // Clean up Bokeh references\n",
       "      var cmd = \"from bokeh.io.state import curstate; print(curstate().uuid_to_server['\" + server_id + \"'].get_sessions()[0].document.roots[0]._id)\";\n",
       "      cell.notebook.kernel.execute(cmd, {\n",
       "        iopub: {\n",
       "          output: function(msg) {\n",
       "            var id = msg.content.text.trim();\n",
       "            if (id in Bokeh.index) {\n",
       "              Bokeh.index[id].model.document.clear();\n",
       "              delete Bokeh.index[id];\n",
       "            }\n",
       "          }\n",
       "        }\n",
       "      });\n",
       "      // Destroy server and session\n",
       "      var cmd = \"import bokeh.io.notebook as ion; ion.destroy_server('\" + server_id + \"')\";\n",
       "      cell.notebook.kernel.execute(cmd);\n",
       "    }\n",
       "  }\n",
       "\n",
       "  /**\n",
       "   * Handle when a new output is added\n",
       "   */\n",
       "  function handleAddOutput(event, handle) {\n",
       "    var output_area = handle.output_area;\n",
       "    var output = handle.output;\n",
       "\n",
       "    // limit handleAddOutput to display_data with EXEC_MIME_TYPE content only\n",
       "    if ((output.output_type != \"display_data\") || (!output.data.hasOwnProperty(EXEC_MIME_TYPE))) {\n",
       "      return\n",
       "    }\n",
       "\n",
       "    var toinsert = output_area.element.find(\".\" + CLASS_NAME.split(' ')[0]);\n",
       "\n",
       "    if (output.metadata[EXEC_MIME_TYPE][\"id\"] !== undefined) {\n",
       "      toinsert[toinsert.length - 1].firstChild.textContent = output.data[JS_MIME_TYPE];\n",
       "      // store reference to embed id on output_area\n",
       "      output_area._bokeh_element_id = output.metadata[EXEC_MIME_TYPE][\"id\"];\n",
       "    }\n",
       "    if (output.metadata[EXEC_MIME_TYPE][\"server_id\"] !== undefined) {\n",
       "      var bk_div = document.createElement(\"div\");\n",
       "      bk_div.innerHTML = output.data[HTML_MIME_TYPE];\n",
       "      var script_attrs = bk_div.children[0].attributes;\n",
       "      for (var i = 0; i < script_attrs.length; i++) {\n",
       "        toinsert[toinsert.length - 1].firstChild.setAttribute(script_attrs[i].name, script_attrs[i].value);\n",
       "      }\n",
       "      // store reference to server id on output_area\n",
       "      output_area._bokeh_server_id = output.metadata[EXEC_MIME_TYPE][\"server_id\"];\n",
       "    }\n",
       "  }\n",
       "\n",
       "  function register_renderer(events, OutputArea) {\n",
       "\n",
       "    function append_mime(data, metadata, element) {\n",
       "      // create a DOM node to render to\n",
       "      var toinsert = this.create_output_subarea(\n",
       "        metadata,\n",
       "        CLASS_NAME,\n",
       "        EXEC_MIME_TYPE\n",
       "      );\n",
       "      this.keyboard_manager.register_events(toinsert);\n",
       "      // Render to node\n",
       "      var props = {data: data, metadata: metadata[EXEC_MIME_TYPE]};\n",
       "      render(props, toinsert[toinsert.length - 1]);\n",
       "      element.append(toinsert);\n",
       "      return toinsert\n",
       "    }\n",
       "\n",
       "    /* Handle when an output is cleared or removed */\n",
       "    events.on('clear_output.CodeCell', handleClearOutput);\n",
       "    events.on('delete.Cell', handleClearOutput);\n",
       "\n",
       "    /* Handle when a new output is added */\n",
       "    events.on('output_added.OutputArea', handleAddOutput);\n",
       "\n",
       "    /**\n",
       "     * Register the mime type and append_mime function with output_area\n",
       "     */\n",
       "    OutputArea.prototype.register_mime_type(EXEC_MIME_TYPE, append_mime, {\n",
       "      /* Is output safe? */\n",
       "      safe: true,\n",
       "      /* Index of renderer in `output_area.display_order` */\n",
       "      index: 0\n",
       "    });\n",
       "  }\n",
       "\n",
       "  // register the mime type if in Jupyter Notebook environment and previously unregistered\n",
       "  if (root.Jupyter !== undefined) {\n",
       "    var events = require('base/js/events');\n",
       "    var OutputArea = require('notebook/js/outputarea').OutputArea;\n",
       "\n",
       "    if (OutputArea.prototype.mime_types().indexOf(EXEC_MIME_TYPE) == -1) {\n",
       "      register_renderer(events, OutputArea);\n",
       "    }\n",
       "  }\n",
       "\n",
       "  \n",
       "  if (typeof (root._bokeh_timeout) === \"undefined\" || force === true) {\n",
       "    root._bokeh_timeout = Date.now() + 5000;\n",
       "    root._bokeh_failed_load = false;\n",
       "  }\n",
       "\n",
       "  var NB_LOAD_WARNING = {'data': {'text/html':\n",
       "     \"<div style='background-color: #fdd'>\\n\"+\n",
       "     \"<p>\\n\"+\n",
       "     \"BokehJS does not appear to have successfully loaded. If loading BokehJS from CDN, this \\n\"+\n",
       "     \"may be due to a slow or bad network connection. Possible fixes:\\n\"+\n",
       "     \"</p>\\n\"+\n",
       "     \"<ul>\\n\"+\n",
       "     \"<li>re-rerun `output_notebook()` to attempt to load from CDN again, or</li>\\n\"+\n",
       "     \"<li>use INLINE resources instead, as so:</li>\\n\"+\n",
       "     \"</ul>\\n\"+\n",
       "     \"<code>\\n\"+\n",
       "     \"from bokeh.resources import INLINE\\n\"+\n",
       "     \"output_notebook(resources=INLINE)\\n\"+\n",
       "     \"</code>\\n\"+\n",
       "     \"</div>\"}};\n",
       "\n",
       "  function display_loaded() {\n",
       "    var el = document.getElementById(\"1001\");\n",
       "    if (el != null) {\n",
       "      el.textContent = \"BokehJS is loading...\";\n",
       "    }\n",
       "    if (root.Bokeh !== undefined) {\n",
       "      if (el != null) {\n",
       "        el.textContent = \"BokehJS \" + root.Bokeh.version + \" successfully loaded.\";\n",
       "      }\n",
       "    } else if (Date.now() < root._bokeh_timeout) {\n",
       "      setTimeout(display_loaded, 100)\n",
       "    }\n",
       "  }\n",
       "\n",
       "\n",
       "  function run_callbacks() {\n",
       "    try {\n",
       "      root._bokeh_onload_callbacks.forEach(function(callback) {\n",
       "        if (callback != null)\n",
       "          callback();\n",
       "      });\n",
       "    } finally {\n",
       "      delete root._bokeh_onload_callbacks\n",
       "    }\n",
       "    console.debug(\"Bokeh: all callbacks have finished\");\n",
       "  }\n",
       "\n",
       "  function load_libs(css_urls, js_urls, callback) {\n",
       "    if (css_urls == null) css_urls = [];\n",
       "    if (js_urls == null) js_urls = [];\n",
       "\n",
       "    root._bokeh_onload_callbacks.push(callback);\n",
       "    if (root._bokeh_is_loading > 0) {\n",
       "      console.debug(\"Bokeh: BokehJS is being loaded, scheduling callback at\", now());\n",
       "      return null;\n",
       "    }\n",
       "    if (js_urls == null || js_urls.length === 0) {\n",
       "      run_callbacks();\n",
       "      return null;\n",
       "    }\n",
       "    console.debug(\"Bokeh: BokehJS not loaded, scheduling load and callback at\", now());\n",
       "    root._bokeh_is_loading = css_urls.length + js_urls.length;\n",
       "\n",
       "    function on_load() {\n",
       "      root._bokeh_is_loading--;\n",
       "      if (root._bokeh_is_loading === 0) {\n",
       "        console.debug(\"Bokeh: all BokehJS libraries/stylesheets loaded\");\n",
       "        run_callbacks()\n",
       "      }\n",
       "    }\n",
       "\n",
       "    function on_error() {\n",
       "      console.error(\"failed to load \" + url);\n",
       "    }\n",
       "\n",
       "    for (var i = 0; i < css_urls.length; i++) {\n",
       "      var url = css_urls[i];\n",
       "      const element = document.createElement(\"link\");\n",
       "      element.onload = on_load;\n",
       "      element.onerror = on_error;\n",
       "      element.rel = \"stylesheet\";\n",
       "      element.type = \"text/css\";\n",
       "      element.href = url;\n",
       "      console.debug(\"Bokeh: injecting link tag for BokehJS stylesheet: \", url);\n",
       "      document.body.appendChild(element);\n",
       "    }\n",
       "\n",
       "    for (var i = 0; i < js_urls.length; i++) {\n",
       "      var url = js_urls[i];\n",
       "      var element = document.createElement('script');\n",
       "      element.onload = on_load;\n",
       "      element.onerror = on_error;\n",
       "      element.async = false;\n",
       "      element.src = url;\n",
       "      console.debug(\"Bokeh: injecting script tag for BokehJS library: \", url);\n",
       "      document.head.appendChild(element);\n",
       "    }\n",
       "  };var element = document.getElementById(\"1001\");\n",
       "  if (element == null) {\n",
       "    console.error(\"Bokeh: ERROR: autoload.js configured with elementid '1001' but no matching script tag was found. \")\n",
       "    return false;\n",
       "  }\n",
       "\n",
       "  function inject_raw_css(css) {\n",
       "    const element = document.createElement(\"style\");\n",
       "    element.appendChild(document.createTextNode(css));\n",
       "    document.body.appendChild(element);\n",
       "  }\n",
       "\n",
       "  var js_urls = [\"https://cdn.pydata.org/bokeh/release/bokeh-1.1.0.min.js\", \"https://cdn.pydata.org/bokeh/release/bokeh-widgets-1.1.0.min.js\", \"https://cdn.pydata.org/bokeh/release/bokeh-tables-1.1.0.min.js\", \"https://cdn.pydata.org/bokeh/release/bokeh-gl-1.1.0.min.js\"];\n",
       "  var css_urls = [\"https://cdn.pydata.org/bokeh/release/bokeh-1.1.0.min.css\", \"https://cdn.pydata.org/bokeh/release/bokeh-widgets-1.1.0.min.css\", \"https://cdn.pydata.org/bokeh/release/bokeh-tables-1.1.0.min.css\"];\n",
       "\n",
       "  var inline_js = [\n",
       "    function(Bokeh) {\n",
       "      Bokeh.set_log_level(\"info\");\n",
       "    },\n",
       "    \n",
       "    function(Bokeh) {\n",
       "      \n",
       "    },\n",
       "    function(Bokeh) {} // ensure no trailing comma for IE\n",
       "  ];\n",
       "\n",
       "  function run_inline_js() {\n",
       "    \n",
       "    if ((root.Bokeh !== undefined) || (force === true)) {\n",
       "      for (var i = 0; i < inline_js.length; i++) {\n",
       "        inline_js[i].call(root, root.Bokeh);\n",
       "      }if (force === true) {\n",
       "        display_loaded();\n",
       "      }} else if (Date.now() < root._bokeh_timeout) {\n",
       "      setTimeout(run_inline_js, 100);\n",
       "    } else if (!root._bokeh_failed_load) {\n",
       "      console.log(\"Bokeh: BokehJS failed to load within specified timeout.\");\n",
       "      root._bokeh_failed_load = true;\n",
       "    } else if (force !== true) {\n",
       "      var cell = $(document.getElementById(\"1001\")).parents('.cell').data().cell;\n",
       "      cell.output_area.append_execute_result(NB_LOAD_WARNING)\n",
       "    }\n",
       "\n",
       "  }\n",
       "\n",
       "  if (root._bokeh_is_loading === 0) {\n",
       "    console.debug(\"Bokeh: BokehJS loaded, going straight to plotting\");\n",
       "    run_inline_js();\n",
       "  } else {\n",
       "    load_libs(css_urls, js_urls, function() {\n",
       "      console.debug(\"Bokeh: BokehJS plotting callback run at\", now());\n",
       "      run_inline_js();\n",
       "    });\n",
       "  }\n",
       "}(window));"
      ],
      "application/vnd.bokehjs_load.v0+json": "\n(function(root) {\n  function now() {\n    return new Date();\n  }\n\n  var force = true;\n\n  if (typeof root._bokeh_onload_callbacks === \"undefined\" || force === true) {\n    root._bokeh_onload_callbacks = [];\n    root._bokeh_is_loading = undefined;\n  }\n\n  \n\n  \n  if (typeof (root._bokeh_timeout) === \"undefined\" || force === true) {\n    root._bokeh_timeout = Date.now() + 5000;\n    root._bokeh_failed_load = false;\n  }\n\n  var NB_LOAD_WARNING = {'data': {'text/html':\n     \"<div style='background-color: #fdd'>\\n\"+\n     \"<p>\\n\"+\n     \"BokehJS does not appear to have successfully loaded. If loading BokehJS from CDN, this \\n\"+\n     \"may be due to a slow or bad network connection. Possible fixes:\\n\"+\n     \"</p>\\n\"+\n     \"<ul>\\n\"+\n     \"<li>re-rerun `output_notebook()` to attempt to load from CDN again, or</li>\\n\"+\n     \"<li>use INLINE resources instead, as so:</li>\\n\"+\n     \"</ul>\\n\"+\n     \"<code>\\n\"+\n     \"from bokeh.resources import INLINE\\n\"+\n     \"output_notebook(resources=INLINE)\\n\"+\n     \"</code>\\n\"+\n     \"</div>\"}};\n\n  function display_loaded() {\n    var el = document.getElementById(\"1001\");\n    if (el != null) {\n      el.textContent = \"BokehJS is loading...\";\n    }\n    if (root.Bokeh !== undefined) {\n      if (el != null) {\n        el.textContent = \"BokehJS \" + root.Bokeh.version + \" successfully loaded.\";\n      }\n    } else if (Date.now() < root._bokeh_timeout) {\n      setTimeout(display_loaded, 100)\n    }\n  }\n\n\n  function run_callbacks() {\n    try {\n      root._bokeh_onload_callbacks.forEach(function(callback) {\n        if (callback != null)\n          callback();\n      });\n    } finally {\n      delete root._bokeh_onload_callbacks\n    }\n    console.debug(\"Bokeh: all callbacks have finished\");\n  }\n\n  function load_libs(css_urls, js_urls, callback) {\n    if (css_urls == null) css_urls = [];\n    if (js_urls == null) js_urls = [];\n\n    root._bokeh_onload_callbacks.push(callback);\n    if (root._bokeh_is_loading > 0) {\n      console.debug(\"Bokeh: BokehJS is being loaded, scheduling callback at\", now());\n      return null;\n    }\n    if (js_urls == null || js_urls.length === 0) {\n      run_callbacks();\n      return null;\n    }\n    console.debug(\"Bokeh: BokehJS not loaded, scheduling load and callback at\", now());\n    root._bokeh_is_loading = css_urls.length + js_urls.length;\n\n    function on_load() {\n      root._bokeh_is_loading--;\n      if (root._bokeh_is_loading === 0) {\n        console.debug(\"Bokeh: all BokehJS libraries/stylesheets loaded\");\n        run_callbacks()\n      }\n    }\n\n    function on_error() {\n      console.error(\"failed to load \" + url);\n    }\n\n    for (var i = 0; i < css_urls.length; i++) {\n      var url = css_urls[i];\n      const element = document.createElement(\"link\");\n      element.onload = on_load;\n      element.onerror = on_error;\n      element.rel = \"stylesheet\";\n      element.type = \"text/css\";\n      element.href = url;\n      console.debug(\"Bokeh: injecting link tag for BokehJS stylesheet: \", url);\n      document.body.appendChild(element);\n    }\n\n    for (var i = 0; i < js_urls.length; i++) {\n      var url = js_urls[i];\n      var element = document.createElement('script');\n      element.onload = on_load;\n      element.onerror = on_error;\n      element.async = false;\n      element.src = url;\n      console.debug(\"Bokeh: injecting script tag for BokehJS library: \", url);\n      document.head.appendChild(element);\n    }\n  };var element = document.getElementById(\"1001\");\n  if (element == null) {\n    console.error(\"Bokeh: ERROR: autoload.js configured with elementid '1001' but no matching script tag was found. \")\n    return false;\n  }\n\n  function inject_raw_css(css) {\n    const element = document.createElement(\"style\");\n    element.appendChild(document.createTextNode(css));\n    document.body.appendChild(element);\n  }\n\n  var js_urls = [\"https://cdn.pydata.org/bokeh/release/bokeh-1.1.0.min.js\", \"https://cdn.pydata.org/bokeh/release/bokeh-widgets-1.1.0.min.js\", \"https://cdn.pydata.org/bokeh/release/bokeh-tables-1.1.0.min.js\", \"https://cdn.pydata.org/bokeh/release/bokeh-gl-1.1.0.min.js\"];\n  var css_urls = [\"https://cdn.pydata.org/bokeh/release/bokeh-1.1.0.min.css\", \"https://cdn.pydata.org/bokeh/release/bokeh-widgets-1.1.0.min.css\", \"https://cdn.pydata.org/bokeh/release/bokeh-tables-1.1.0.min.css\"];\n\n  var inline_js = [\n    function(Bokeh) {\n      Bokeh.set_log_level(\"info\");\n    },\n    \n    function(Bokeh) {\n      \n    },\n    function(Bokeh) {} // ensure no trailing comma for IE\n  ];\n\n  function run_inline_js() {\n    \n    if ((root.Bokeh !== undefined) || (force === true)) {\n      for (var i = 0; i < inline_js.length; i++) {\n        inline_js[i].call(root, root.Bokeh);\n      }if (force === true) {\n        display_loaded();\n      }} else if (Date.now() < root._bokeh_timeout) {\n      setTimeout(run_inline_js, 100);\n    } else if (!root._bokeh_failed_load) {\n      console.log(\"Bokeh: BokehJS failed to load within specified timeout.\");\n      root._bokeh_failed_load = true;\n    } else if (force !== true) {\n      var cell = $(document.getElementById(\"1001\")).parents('.cell').data().cell;\n      cell.output_area.append_execute_result(NB_LOAD_WARNING)\n    }\n\n  }\n\n  if (root._bokeh_is_loading === 0) {\n    console.debug(\"Bokeh: BokehJS loaded, going straight to plotting\");\n    run_inline_js();\n  } else {\n    load_libs(css_urls, js_urls, function() {\n      console.debug(\"Bokeh: BokehJS plotting callback run at\", now());\n      run_inline_js();\n    });\n  }\n}(window));"
     },
     "metadata": {},
     "output_type": "display_data"
    }
   ],
   "source": [
    "#Bokehを使えるようにする\n",
    "import numpy as np\n",
    "from bokeh.plotting import figure\n",
    "from bokeh.io import output_notebook\n",
    "from bokeh.io import show\n",
    "#以下にプロットを作る\n",
    "output_notebook()"
   ]
  },
  {
   "cell_type": "code",
   "execution_count": 11,
   "metadata": {},
   "outputs": [
    {
     "data": {
      "text/html": [
       "\n",
       "\n",
       "\n",
       "\n",
       "\n",
       "\n",
       "  <div class=\"bk-root\" id=\"b38edcff-c35b-485f-8f54-1d18eca97452\" data-root-id=\"1034\"></div>\n"
      ]
     },
     "metadata": {},
     "output_type": "display_data"
    },
    {
     "data": {
      "application/javascript": [
       "(function(root) {\n",
       "  function embed_document(root) {\n",
       "    \n",
       "  var docs_json = {\"65854776-9a4d-429f-b30c-5f3f6fec2abe\":{\"roots\":{\"references\":[{\"attributes\":{\"below\":[{\"id\":\"1045\",\"type\":\"LinearAxis\"}],\"center\":[{\"id\":\"1049\",\"type\":\"Grid\"},{\"id\":\"1054\",\"type\":\"Grid\"}],\"left\":[{\"id\":\"1050\",\"type\":\"LinearAxis\"}],\"renderers\":[{\"id\":\"1071\",\"type\":\"GlyphRenderer\"}],\"title\":{\"id\":\"1035\",\"type\":\"Title\"},\"toolbar\":{\"id\":\"1061\",\"type\":\"Toolbar\"},\"x_range\":{\"id\":\"1037\",\"type\":\"DataRange1d\"},\"x_scale\":{\"id\":\"1041\",\"type\":\"LinearScale\"},\"y_range\":{\"id\":\"1039\",\"type\":\"DataRange1d\"},\"y_scale\":{\"id\":\"1043\",\"type\":\"LinearScale\"}},\"id\":\"1034\",\"subtype\":\"Figure\",\"type\":\"Plot\"},{\"attributes\":{\"axis_label\":\"intensity\",\"formatter\":{\"id\":\"1076\",\"type\":\"BasicTickFormatter\"},\"ticker\":{\"id\":\"1051\",\"type\":\"BasicTicker\"}},\"id\":\"1050\",\"type\":\"LinearAxis\"},{\"attributes\":{},\"id\":\"1051\",\"type\":\"BasicTicker\"},{\"attributes\":{},\"id\":\"1056\",\"type\":\"WheelZoomTool\"},{\"attributes\":{\"line_alpha\":0.1,\"line_color\":\"#1f77b4\",\"line_width\":2,\"x\":{\"field\":\"x\"},\"y\":{\"field\":\"y\"}},\"id\":\"1070\",\"type\":\"Line\"},{\"attributes\":{\"dimension\":1,\"ticker\":{\"id\":\"1051\",\"type\":\"BasicTicker\"}},\"id\":\"1054\",\"type\":\"Grid\"},{\"attributes\":{\"callback\":null},\"id\":\"1039\",\"type\":\"DataRange1d\"},{\"attributes\":{},\"id\":\"1055\",\"type\":\"PanTool\"},{\"attributes\":{\"text\":\"spectral\"},\"id\":\"1035\",\"type\":\"Title\"},{\"attributes\":{\"line_color\":\"#1f77b4\",\"line_width\":2,\"x\":{\"field\":\"x\"},\"y\":{\"field\":\"y\"}},\"id\":\"1069\",\"type\":\"Line\"},{\"attributes\":{},\"id\":\"1074\",\"type\":\"BasicTickFormatter\"},{\"attributes\":{\"overlay\":{\"id\":\"1080\",\"type\":\"BoxAnnotation\"}},\"id\":\"1057\",\"type\":\"BoxZoomTool\"},{\"attributes\":{\"callback\":null,\"data\":{\"x\":{\"__ndarray__\":\"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\",\"dtype\":\"float64\",\"shape\":[256]},\"y\":{\"__ndarray__\":\"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\",\"dtype\":\"float64\",\"shape\":[256]}},\"selected\":{\"id\":\"1078\",\"type\":\"Selection\"},\"selection_policy\":{\"id\":\"1079\",\"type\":\"UnionRenderers\"}},\"id\":\"1068\",\"type\":\"ColumnDataSource\"},{\"attributes\":{},\"id\":\"1058\",\"type\":\"SaveTool\"},{\"attributes\":{},\"id\":\"1059\",\"type\":\"ResetTool\"},{\"attributes\":{},\"id\":\"1060\",\"type\":\"HelpTool\"},{\"attributes\":{\"active_drag\":\"auto\",\"active_inspect\":\"auto\",\"active_multi\":null,\"active_scroll\":\"auto\",\"active_tap\":\"auto\",\"tools\":[{\"id\":\"1055\",\"type\":\"PanTool\"},{\"id\":\"1056\",\"type\":\"WheelZoomTool\"},{\"id\":\"1057\",\"type\":\"BoxZoomTool\"},{\"id\":\"1058\",\"type\":\"SaveTool\"},{\"id\":\"1059\",\"type\":\"ResetTool\"},{\"id\":\"1060\",\"type\":\"HelpTool\"}]},\"id\":\"1061\",\"type\":\"Toolbar\"},{\"attributes\":{\"callback\":null},\"id\":\"1037\",\"type\":\"DataRange1d\"},{\"attributes\":{\"data_source\":{\"id\":\"1068\",\"type\":\"ColumnDataSource\"},\"glyph\":{\"id\":\"1069\",\"type\":\"Line\"},\"hover_glyph\":null,\"muted_glyph\":null,\"nonselection_glyph\":{\"id\":\"1070\",\"type\":\"Line\"},\"selection_glyph\":null,\"view\":{\"id\":\"1072\",\"type\":\"CDSView\"}},\"id\":\"1071\",\"type\":\"GlyphRenderer\"},{\"attributes\":{\"source\":{\"id\":\"1068\",\"type\":\"ColumnDataSource\"}},\"id\":\"1072\",\"type\":\"CDSView\"},{\"attributes\":{},\"id\":\"1076\",\"type\":\"BasicTickFormatter\"},{\"attributes\":{},\"id\":\"1041\",\"type\":\"LinearScale\"},{\"attributes\":{},\"id\":\"1078\",\"type\":\"Selection\"},{\"attributes\":{},\"id\":\"1079\",\"type\":\"UnionRenderers\"},{\"attributes\":{},\"id\":\"1043\",\"type\":\"LinearScale\"},{\"attributes\":{\"bottom_units\":\"screen\",\"fill_alpha\":{\"value\":0.5},\"fill_color\":{\"value\":\"lightgrey\"},\"left_units\":\"screen\",\"level\":\"overlay\",\"line_alpha\":{\"value\":1.0},\"line_color\":{\"value\":\"black\"},\"line_dash\":[4,4],\"line_width\":{\"value\":2},\"render_mode\":\"css\",\"right_units\":\"screen\",\"top_units\":\"screen\"},\"id\":\"1080\",\"type\":\"BoxAnnotation\"},{\"attributes\":{\"axis_label\":\"frequency\",\"formatter\":{\"id\":\"1074\",\"type\":\"BasicTickFormatter\"},\"ticker\":{\"id\":\"1046\",\"type\":\"BasicTicker\"}},\"id\":\"1045\",\"type\":\"LinearAxis\"},{\"attributes\":{},\"id\":\"1046\",\"type\":\"BasicTicker\"},{\"attributes\":{\"ticker\":{\"id\":\"1046\",\"type\":\"BasicTicker\"}},\"id\":\"1049\",\"type\":\"Grid\"}],\"root_ids\":[\"1034\"]},\"title\":\"Bokeh Application\",\"version\":\"1.1.0\"}};\n",
       "  var render_items = [{\"docid\":\"65854776-9a4d-429f-b30c-5f3f6fec2abe\",\"roots\":{\"1034\":\"b38edcff-c35b-485f-8f54-1d18eca97452\"}}];\n",
       "  root.Bokeh.embed.embed_items_notebook(docs_json, render_items);\n",
       "\n",
       "  }\n",
       "  if (root.Bokeh !== undefined) {\n",
       "    embed_document(root);\n",
       "  } else {\n",
       "    var attempts = 0;\n",
       "    var timer = setInterval(function(root) {\n",
       "      if (root.Bokeh !== undefined) {\n",
       "        embed_document(root);\n",
       "        clearInterval(timer);\n",
       "      }\n",
       "      attempts++;\n",
       "      if (attempts > 100) {\n",
       "        console.log(\"Bokeh: ERROR: Unable to run BokehJS code because BokehJS library is missing\");\n",
       "        clearInterval(timer);\n",
       "      }\n",
       "    }, 10, root)\n",
       "  }\n",
       "})(window);"
      ],
      "application/vnd.bokehjs_exec.v0+json": ""
     },
     "metadata": {
      "application/vnd.bokehjs_exec.v0+json": {
       "id": "1034"
      }
     },
     "output_type": "display_data"
    }
   ],
   "source": [
    "#グラフの領域を決める\n",
    "p = figure(plot_width=400, plot_height=400)\n",
    "#図のタイトルをtitleとする\n",
    "p = figure(title = \"spectral\")\n",
    "#横軸をfrequency,縦軸をintensityとする\n",
    "p.xaxis.axis_label = 'frequency'\n",
    "p.yaxis.axis_label = 'intensity'\n",
    "#プロット\n",
    "p.line(freq, spec, line_width=2)\n",
    "#結果を表示\n",
    "show(p)"
   ]
  },
  {
   "cell_type": "code",
   "execution_count": null,
   "metadata": {},
   "outputs": [],
   "source": []
  }
 ],
 "metadata": {
  "kernelspec": {
   "display_name": "Python 3",
   "language": "python",
   "name": "python3"
  },
  "language_info": {
   "codemirror_mode": {
    "name": "ipython",
    "version": 3
   },
   "file_extension": ".py",
   "mimetype": "text/x-python",
   "name": "python",
   "nbconvert_exporter": "python",
   "pygments_lexer": "ipython3",
   "version": "3.7.2"
  }
 },
 "nbformat": 4,
 "nbformat_minor": 2
}
